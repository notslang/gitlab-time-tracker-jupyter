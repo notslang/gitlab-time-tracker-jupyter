{
 "cells": [
  {
   "cell_type": "code",
   "execution_count": null,
   "metadata": {},
   "outputs": [],
   "source": [
    "# commands used to pull down CSV:\n",
    "# gtt report --report=records --output=csv --no_headlines -c --time_format=\"[%sign][%hours_overall]\" msoe.edu/sdl/create-institute/backend --file=\"./gitlab-time-tracker-backend.csv\"\n",
    "# gtt report --report=records --output=csv --no_headlines -c --time_format=\"[%sign][%hours_overall]\" msoe.edu/sdl/create-institute/frontend --file=\"./gitlab-time-tracker-frontend.csv\"\n",
    "\n",
    "import pandas as pd\n",
    "import numpy as np\n",
    "from math import isnan\n",
    "\n",
    "# fix notebook styling\n",
    "from IPython.core.display import display, HTML\n",
    "display(HTML(\"<style>.container { width:100% !important; }</style>\"))\n",
    "\n",
    "df_frontend = pd.read_csv('./gitlab-time-tracker-frontend.records.csv')\n",
    "df_backend = pd.read_csv('./gitlab-time-tracker-backend.records.csv')\n",
    "df_frontend['repo'] = 'frontend'\n",
    "df_backend['repo'] = 'backend'\n",
    "df = pd.concat([df_frontend, df_backend], sort=True)\n",
    "\n",
    "def create_link(x):\n",
    "    if x.type == \"Issue\":\n",
    "        return f\"https://gitlab.com/msoe.edu/sdl/create-institute/{x.repo}/issues/{x.iid}\"\n",
    "    else:\n",
    "        return \"\"\n",
    "\n",
    "format_hours = lambda x: '0' if x == 0 else \"{0:.2f}\".format(x).rstrip('0').rstrip('.') + 'h'\n",
    "\n",
    "df['link'] = df.apply(create_link, axis=1)\n",
    "df['date'] = pd.to_datetime(df['date'], dayfirst=True)\n",
    "df.sort_values(by=['date', 'user'], inplace=True, ascending=False)\n",
    "\n",
    "df = df.reset_index(drop=True)\n",
    "\n",
    "pd.options.display.max_rows = None\n",
    "pd.options.display.max_columns = None\n",
    "pd.set_option('max_colwidth', 800)\n",
    "\n",
    "df.style.format({\n",
    "    'time': format_hours\n",
    "})"
   ]
  },
  {
   "cell_type": "code",
   "execution_count": null,
   "metadata": {},
   "outputs": [],
   "source": [
    "df['year'] = df['date'].dt.strftime('%Y')\n",
    "df['month'] = df['date'].dt.strftime('%m')\n",
    "df['day'] = df['date'].dt.strftime('%d (%a)')\n",
    "df['week'] = df['date'].dt.strftime('%W')\n",
    "\n",
    "res = df.pivot_table(\n",
    "    index='user',\n",
    "    columns=['year', 'week', 'month', 'day'],\n",
    "    values='time',\n",
    "    aggfunc=[np.sum],\n",
    "    fill_value=0,\n",
    "    margins=True,\n",
    "    margins_name='Σ'\n",
    ")\n",
    "res.style.format(format_hours)"
   ]
  },
  {
   "cell_type": "code",
   "execution_count": null,
   "metadata": {},
   "outputs": [],
   "source": [
    "res_weeks = df.pivot_table(\n",
    "    index='user',\n",
    "    columns=['week'],\n",
    "    values='time',\n",
    "    aggfunc=[np.sum],\n",
    "    fill_value=0,\n",
    "    margins=True,\n",
    "    margins_name='Σ'\n",
    ")\n",
    "res_weeks.style.format(format_hours)"
   ]
  },
  {
   "cell_type": "code",
   "execution_count": null,
   "metadata": {},
   "outputs": [],
   "source": [
    "# show number of days in each numbered week (sanity check)\n",
    "res_weeks = df.groupby(['week'])['day'].nunique()\n",
    "res_weeks"
   ]
  }
 ],
 "metadata": {
  "kernelspec": {
   "display_name": "Python 3",
   "language": "python",
   "name": "python3"
  },
  "language_info": {
   "codemirror_mode": {
    "name": "ipython",
    "version": 3
   },
   "file_extension": ".py",
   "mimetype": "text/x-python",
   "name": "python",
   "nbconvert_exporter": "python",
   "pygments_lexer": "ipython3",
   "version": "3.7.1"
  }
 },
 "nbformat": 4,
 "nbformat_minor": 2
}
